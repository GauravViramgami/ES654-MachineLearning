{
  "nbformat": 4,
  "nbformat_minor": 0,
  "metadata": {
    "colab": {
      "provenance": []
    },
    "kernelspec": {
      "name": "python3",
      "display_name": "Python 3"
    },
    "language_info": {
      "name": "python"
    }
  },
  "cells": [
    {
      "cell_type": "markdown",
      "source": [
        "Name: Gaurav Viramgami\n",
        "\n",
        "Roll Number: 19110106"
      ],
      "metadata": {
        "id": "XrhcanbrBncm"
      }
    },
    {
      "cell_type": "markdown",
      "source": [
        "# Question 1:\n",
        "How many multiplications and additions do you need to perform a matrix multiplication between a $(n, k)$ and $(k, m)$ matrix? Explain."
      ],
      "metadata": {
        "id": "tiVLK42zBzpP"
      }
    },
    {
      "cell_type": "markdown",
      "source": [
        "# Answer 1:\n",
        "\n",
        "Total number of multiplications: $n \\times m \\times k$\n",
        "\n",
        "Total number of additions: $n \\times m \\times (k - 1)$\n",
        "\n",
        "Let $M_1$ be a matrix of size $(n, k)$ and $M_2$ be a matrix of size $(k, m)$.\n",
        "$$\n",
        "M_1 = \\begin{bmatrix}\n",
        "a_{11} & a_{12} & \\ldots & a_{1k} \\\\\n",
        "a_{21} & a_{22} & \\ldots & a_{2k} \\\\\n",
        "\\ldots & \\ldots & \\ldots & \\ldots \\\\\n",
        "a_{n1} & a_{n2} & \\ldots & a_{nk} \\\\\n",
        "\\end{bmatrix}\n",
        ", M_2 = \\begin{bmatrix}\n",
        "b_{11} & b_{12} & \\ldots & b_{1m} \\\\\n",
        "b_{21} & b_{22} & \\ldots & b_{2m} \\\\\n",
        "\\ldots & \\ldots & \\ldots & \\ldots \\\\\n",
        "b_{k1} & b_{k2} & \\ldots & b_{km} \\\\\n",
        "\\end{bmatrix}\n",
        "$$\n",
        "\n",
        "$$\n",
        "\\implies\n",
        "M_1 \\times M_2 = \\begin{bmatrix}\n",
        "\\sum_{p = 1}^{k} (a_{1p} \\cdot b_{p1}) & \\sum_{p = 1}^{k} (a_{1p} \\cdot b_{p2}) & \\ldots & \\sum_{p = 1}^{k} (a_{1p} \\cdot b_{pm}) \\\\\n",
        "\\sum_{p = 1}^{k} (a_{2p} \\cdot b_{p1}) & \\sum_{p = 1}^{k} (a_{2p} \\cdot b_{p2}) & \\ldots & \\sum_{p = 1}^{k} (a_{2p} \\cdot b_{pm}) \\\\\n",
        "\\ldots & \\ldots & \\ldots & \\ldots \\\\\n",
        "\\sum_{p = 1}^{k} (a_{np} \\cdot b_{p1}) & \\sum_{p = 1}^{k} (a_{np} \\cdot b_{p2}) & \\ldots & \\sum_{p = 1}^{k} (a_{np} \\cdot b_{pm}) \\\\\n",
        "\\end{bmatrix}\n",
        "$$\n",
        "\n",
        "- Number of multiplications per cell in $M_1 \\times M_2 = k$, and the size of $M_1 \\times M_2 = n \\times m$, which implies that total number of multiplications = $n \\times m \\times k$.\n",
        "- Number of additions per cell in $M_1 \\times M_2 = k - 1$, and the size of $M_1 \\times M_2 = n \\times m$, which implies that total number of additions = $n \\times m \\times (k - 1)$."
      ],
      "metadata": {
        "id": "emi38M5OB8N8"
      }
    },
    {
      "cell_type": "markdown",
      "source": [
        "---"
      ],
      "metadata": {
        "id": "KVCUOi58HLpY"
      }
    },
    {
      "cell_type": "markdown",
      "source": [
        "# Question 2: \n",
        "\n",
        "Write Python code to multiply the above two matrices. Solve using list of lists and then use numpy. Compare the timing of both solutions. Which one is faster? Why?"
      ],
      "metadata": {
        "id": "o9U8CnZuHHFH"
      }
    },
    {
      "cell_type": "markdown",
      "source": [
        "# Answer 2:\n",
        "For smaller matrix size ($n, m, k \\approx 5$), execution time using both methods is almost similar. However for larger matrix size, NumPy performs faster than list of lists. Some of the reasons behind it are:\n",
        "- NumPy library is implemented in C, which is faster when compared to Python\n",
        "- NumPy array uses same data-type for the whole array, which is not the case with Python lists. So, NumPy arrays are efficient for vector calculations."
      ],
      "metadata": {
        "id": "ZCiMmaLhM_Gk"
      }
    },
    {
      "cell_type": "code",
      "execution_count": null,
      "metadata": {
        "id": "WPPbBlMnBUzb",
        "colab": {
          "base_uri": "https://localhost:8080/"
        },
        "outputId": "3c8adec9-3f73-4b6b-c2ca-6c02e66c627a"
      },
      "outputs": [
        {
          "output_type": "stream",
          "name": "stderr",
          "text": [
            "100%|██████████| 1000/1000 [00:56<00:00, 17.84it/s]"
          ]
        },
        {
          "output_type": "stream",
          "name": "stdout",
          "text": [
            "\n",
            "[Using list of lists] Execution Time over 1000 iterations:  0.04537337946400021 +/- 0.062419938444054635\n",
            "[Using NumPy] Execution Time over 1000 iterations:  0.0002652625239952613 +/- 0.000722123695873047\n"
          ]
        },
        {
          "output_type": "stream",
          "name": "stderr",
          "text": [
            "\n"
          ]
        }
      ],
      "source": [
        "import timeit\n",
        "import numpy as np\n",
        "import random\n",
        "from tqdm import tqdm\n",
        "\n",
        "# Using list of lists\n",
        "\n",
        "def matMulUsingList (M1 = None, M2 = None):\n",
        "  \"\"\"\n",
        "  Input: Two non-empty matrices M1 and M2\n",
        "  ( If input from console: \n",
        "  - 3 space separated integers n, k and m\n",
        "  - Matrix M1: n lines each containing k space separated integers\n",
        "  - Matrix M2: k lines each containing k space separated integers )\n",
        "\n",
        "  Outpt: M1 x M2, execution time\n",
        "  \"\"\"\n",
        "\n",
        "  if (M1 and M2):\n",
        "    n, k, m = len(M1), len(M2), len(M2[0])\n",
        "  else:\n",
        "    n, k, m = list(map(int, input().split()))\n",
        "    M1 = []\n",
        "    for i in range(n):\n",
        "      M1.append(list(map(int, input().split())))\n",
        "\n",
        "    M2 = []\n",
        "    for j in range(k):\n",
        "      M2.append(list(map(int, input().split())))\n",
        "\n",
        "  start = timeit.default_timer()\n",
        "\n",
        "  # M = M1 x M2\n",
        "  M = []\n",
        "  for p in range(n):\n",
        "    M.append([])\n",
        "    for q in range(m):\n",
        "      M[p].append(0)\n",
        "      for r in range(k):\n",
        "        M[p][q] += (M1[p][r] * M2[r][q])\n",
        "\n",
        "  stop = timeit.default_timer()\n",
        "\n",
        "  return M, stop - start\n",
        "\n",
        "# Using numpy\n",
        "\n",
        "def matMulUsingNumPy (M1 = None, M2 = None):\n",
        "  \"\"\"\n",
        "  Input: Two non-empty matrices M1 and M2\n",
        "  ( If input from console: \n",
        "  - 3 space separated integers n, k and m\n",
        "  - Matrix M1: n lines each containing k space separated integers\n",
        "  - Matrix M2: k lines each containing k space separated integers )\n",
        "\n",
        "  Outpt: M1 x M2, execution time\n",
        "  \"\"\"\n",
        "\n",
        "  if (M1 and M2):\n",
        "    n, k, m = len(M1), len(M2), len(M2[0])\n",
        "    M1 = np.array(M1)\n",
        "    M2 = np.array(M2)\n",
        "  else:\n",
        "    n, k, m = list(map(int, input().split()))\n",
        "    M1 = np.zeros(shape=(n, k))\n",
        "    for i in range(n):\n",
        "      M1[i] = list(map(int, input().split()))\n",
        "\n",
        "    M2 = np.zeros(shape=(k, m))\n",
        "    for j in range(k):\n",
        "      M2[j] = list(map(int, input().split()))\n",
        "\n",
        "  start = timeit.default_timer()\n",
        "\n",
        "  # M = M1 x M2\n",
        "  M = np.matmul(M1, M2)\n",
        "\n",
        "  stop = timeit.default_timer()\n",
        "\n",
        "  return M, stop - start\n",
        "\n",
        "iterations = 1000\n",
        "execList = np.zeros(iterations)\n",
        "execNumPy = np.zeros(iterations)\n",
        "for iter in tqdm(range(iterations)):\n",
        "  n = random.randint(2, 100)\n",
        "  k = random.randint(2, 100)\n",
        "  m = random.randint(2, 100)\n",
        "  M1 = [[random.randint(-1e5, 1e5) for i in range(k)] for j in range(n)]\n",
        "  M2 = [[random.randint(-1e5, 1e5) for i in range(m)] for j in range(k)]\n",
        "  MList, execTimeList = matMulUsingList(M1, M2)\n",
        "  MNumPy, execTimeNumPy = matMulUsingNumPy(M1, M2)\n",
        "\n",
        "  assert(np.array(MList).all() == MNumPy.all())\n",
        "  execList[iter] = execTimeList\n",
        "  execNumPy[iter] = execTimeNumPy\n",
        "\n",
        "meanList, meanNumPy = np.mean(execList), np.mean(execNumPy)\n",
        "stdList, stdNumPy = np.std(execList), np.std(execNumPy)\n",
        "\n",
        "print()\n",
        "print(\"[Using list of lists] Execution Time over\", iterations, \"iterations: \", meanList, \"+/-\", stdList)\n",
        "print(\"[Using NumPy] Execution Time over\", iterations, \"iterations: \", meanNumPy, \"+/-\", stdNumPy)"
      ]
    },
    {
      "cell_type": "markdown",
      "source": [
        "---"
      ],
      "metadata": {
        "id": "mXdLmL-JOLuk"
      }
    },
    {
      "cell_type": "markdown",
      "source": [
        "# Question 3: \n",
        "Finding the highest element in a list requires one pass of the array. Finding the second highest element requires $2$ passes of the array. Using this method, what is the time complexity of finding the median of the array? Can you suggest a better method? Can you implement both these methods in Python and compare against numpy.median routine in terms of time?"
      ],
      "metadata": {
        "id": "6T51r6rAON_b"
      }
    },
    {
      "cell_type": "markdown",
      "source": [
        "# Answer 3: \n",
        "Finding the median will require $\\approx n \\backslash 2$ passes of the array, wher eeach pass requires linear time. So the time complexity will be $\\mathcal{O}(n \\backslash 2 \\cdot n) = \\mathcal{O}(n^2)$.\n",
        "\n",
        "A better method will be to first sort the array, which can be done in time $\\mathcal{O}(n \\log{n})$ using merge sort. After sorting the array median can be computed as the $(n - 1) \\backslash 2$ th element ($0$ - indexing) if $n$ is odd, or average of $(n-2) \\backslash 2$ th element and $n \\backslash 2$ th element if $n$ is even. So, the overall time complexity will be $\\mathcal{O}(n \\log{n})$.\n",
        "\n",
        "Execution Time Comparasion: Execution time using NumPy < Execution time using Sorting < Execution time using Pass"
      ],
      "metadata": {
        "id": "sVIvXEjVOpeE"
      }
    },
    {
      "cell_type": "code",
      "source": [
        "# n/2 passes\n",
        "\n",
        "def medianFindUsingPass (array):\n",
        "  n = len(array)\n",
        "  visited = [0 for i in range(n)]\n",
        "  medianCandidates = []\n",
        "  for i in range((n-1)//2 + 2):\n",
        "    curMax = -1e10\n",
        "    curIdx = -1\n",
        "    for j in range(n):\n",
        "      if (visited[j] == 0):\n",
        "        if (array[j] > curMax):\n",
        "          curMax = array[j]\n",
        "          curIdx = j\n",
        "    visited[curIdx] = 1\n",
        "    if (i >= (n-1)//2):\n",
        "      medianCandidates.append(curMax)\n",
        "  \n",
        "  if (n%2 != 0):\n",
        "    return medianCandidates[0]\n",
        "  else:\n",
        "    return (medianCandidates[0] + medianCandidates[1])/2\n",
        "\n",
        "def medianFindUsingSort (array):\n",
        "  n = len(array)\n",
        "  array.sort()\n",
        "  if (n%2 != 0):\n",
        "    return array[(n-1)//2]\n",
        "  else:\n",
        "    return (array[(n-2)//2] + array[n//2])/2\n",
        "\n",
        "def medianFindUsingNumPy (array):\n",
        "  return np.median(array)\n",
        "\n",
        "iterations = 1000\n",
        "execPass = np.zeros(iterations)\n",
        "execSort = np.zeros(iterations)\n",
        "execNumPy = np.zeros(iterations)\n",
        "for iter in tqdm(range(iterations)):\n",
        "  n = random.randint(1, 1000)\n",
        "  array = np.random.uniform(-1e5, 1e5, n)\n",
        "\n",
        "  start = timeit.default_timer()\n",
        "  medPass = medianFindUsingPass(array)\n",
        "  end = timeit.default_timer()\n",
        "  execTimePass = end - start\n",
        "  execPass[iter] = execTimePass\n",
        "\n",
        "  start = timeit.default_timer()\n",
        "  medSort = medianFindUsingSort(array)\n",
        "  end = timeit.default_timer()\n",
        "  execTimeSort = end - start\n",
        "  execSort[iter] = execTimeSort\n",
        "\n",
        "  start = timeit.default_timer()\n",
        "  medNumPy = medianFindUsingNumPy(array)\n",
        "  end = timeit.default_timer()\n",
        "  execTimeNumPy = end - start\n",
        "  execPass[iter] = execTimeNumPy\n",
        "\n",
        "  assert(medPass == medSort)\n",
        "  assert(medSort == medNumPy)\n",
        "\n",
        "meanPass, meanSort, meanNumPy = np.mean(execPass), np.mean(execSort), np.mean(execNumPy)\n",
        "stdPass, stdSort, stdNumPy = np.std(execPass), np.std(execSort), np.std(execNumPy)\n",
        "\n",
        "print()\n",
        "print(\"[Using Pass] Execution Time over\", iterations, \"iterations: \", meanPass, \"+/-\", stdPass)\n",
        "print(\"[Using Sort] Execution Time over\", iterations, \"iterations: \", meanSort, \"+/-\", stdSort)\n",
        "print(\"[Using NumPy] Execution Time over\", iterations, \"iterations: \", meanNumPy, \"+/-\", stdNumPy)"
      ],
      "metadata": {
        "id": "spfj2RAY0pxM",
        "colab": {
          "base_uri": "https://localhost:8080/"
        },
        "outputId": "7bb72918-9b83-4224-cb79-936c3edca708"
      },
      "execution_count": null,
      "outputs": [
        {
          "output_type": "stream",
          "name": "stderr",
          "text": [
            "100%|██████████| 1000/1000 [00:28<00:00, 34.53it/s]"
          ]
        },
        {
          "output_type": "stream",
          "name": "stdout",
          "text": [
            "\n",
            "[Using Pass] Execution Time over 1000 iterations:  0.00020213698799307166 +/- 0.000260698926581443\n",
            "[Using Sort] Execution Time over 1000 iterations:  6.20883700039485e-05 +/- 0.00011568808124031777\n",
            "[Using NumPy] Execution Time over 1000 iterations:  0.0 +/- 0.0\n"
          ]
        },
        {
          "output_type": "stream",
          "name": "stderr",
          "text": [
            "\n"
          ]
        }
      ]
    },
    {
      "cell_type": "markdown",
      "source": [
        "---"
      ],
      "metadata": {
        "id": "KUkVxYWa2b6P"
      }
    },
    {
      "cell_type": "markdown",
      "source": [
        "# Question 4: \n",
        "What is the gradient of the following function with respect to x and y?\n",
        "\n",
        "$$\n",
        "x^2 y + y^3 \\sin{x}\n",
        "$$"
      ],
      "metadata": {
        "id": "sMDpEIKc2d8H"
      }
    },
    {
      "cell_type": "markdown",
      "source": [
        "# Answer 4: \n",
        "\n",
        "Let $f = x^2 y + y^3 \\sin{x}$.\n",
        "\n",
        "- Gradient with respec to $x$: $\\frac{\\partial f}{\\partial x} = 2xy + y^3 \\cos{x}$\n",
        "\n",
        "- Gradient with respec to $y$: $\\frac{\\partial f}{\\partial y} = x^2 + 3y^2 \\sin{x}$"
      ],
      "metadata": {
        "id": "O-FdytMS2q3n"
      }
    },
    {
      "cell_type": "markdown",
      "source": [
        "---"
      ],
      "metadata": {
        "id": "UlGtsqdgK9Dc"
      }
    },
    {
      "cell_type": "markdown",
      "source": [
        "# Question 5: \n",
        "Use `JAX` to confirm the gradient evaluated by your method matches the analytical solution corresponding to a few random values of x and y."
      ],
      "metadata": {
        "id": "Luhdx20KK-xj"
      }
    },
    {
      "cell_type": "markdown",
      "source": [
        "# Answer 5:"
      ],
      "metadata": {
        "id": "sK5J5-1DQucc"
      }
    },
    {
      "cell_type": "code",
      "source": [
        "import jax.numpy as jnp\n",
        "from jax import grad, jit, vmap\n",
        "from jax import random\n",
        "\n",
        "def f (x, y):\n",
        "  return ((x**2) * y) + ((y**3) * jnp.sin(x))\n",
        "\n",
        "def dfx (x, y):\n",
        "  return 2 * x * y + ((y**3) * np.cos(x))\n",
        "\n",
        "def dfy (x, y):\n",
        "  return x**2 + (3 * (y**2) * np.sin(x))\n",
        "\n",
        "numValues = 1000\n",
        "x = np.random.uniform(-1e5, 1e5, numValues)\n",
        "y = np.random.uniform(-1e5, 1e5, numValues)\n",
        "\n",
        "xGrad, yGrad, xTrue, yTrue = np.zeros(numValues), np.zeros(numValues), np.zeros(numValues), np.zeros(numValues)\n",
        "\n",
        "for i in tqdm(range(numValues)):\n",
        "  xGrad[i], yGrad[i] = grad(f, (0, 1))(x[i], y[i])\n",
        "  xTrue[i], yTrue[i] = dfx(x[i], y[i]), dfy(x[i], y[i])\n",
        "\n",
        "print()\n",
        "print(\"RMSE (Root Mean Squared Error) of using JAX for derivative with respect to x (Iterations:\", numValues, \"):\", np.sqrt(np.mean((xGrad-xTrue)**2)))\n",
        "print(\"RMSE (Root Mean Squared Error) of using JAX for derivative with respect to y (Iterations:\", numValues, \"):\", np.sqrt(np.mean((yGrad-yTrue)**2)))"
      ],
      "metadata": {
        "colab": {
          "base_uri": "https://localhost:8080/"
        },
        "id": "_-0oLoU82IvH",
        "outputId": "adc4429c-7835-41f9-ac82-124d47428a96"
      },
      "execution_count": null,
      "outputs": [
        {
          "output_type": "stream",
          "name": "stderr",
          "text": [
            "  0%|          | 0/1000 [00:00<?, ?it/s]WARNING:jax._src.lib.xla_bridge:No GPU/TPU found, falling back to CPU. (Set TF_CPP_MIN_LOG_LEVEL=0 and rerun for more info.)\n",
            "100%|██████████| 1000/1000 [00:09<00:00, 102.15it/s]"
          ]
        },
        {
          "output_type": "stream",
          "name": "stdout",
          "text": [
            "\n",
            "RMSE (Root Mean Squared Error) of using JAX for derivative with respect to x (Iterations: 1000 ): 375022038661.95465\n",
            "RMSE (Root Mean Squared Error) of using JAX for derivative with respect to y (Iterations: 1000 ): 14054220.522598622\n"
          ]
        },
        {
          "output_type": "stream",
          "name": "stderr",
          "text": [
            "\n"
          ]
        }
      ]
    },
    {
      "cell_type": "markdown",
      "source": [
        "---"
      ],
      "metadata": {
        "id": "iUdkwS03Q4bM"
      }
    },
    {
      "cell_type": "markdown",
      "source": [
        "# Question 6: \n",
        "Use `sympy` to confirm that you obtain the same gradient analytically."
      ],
      "metadata": {
        "id": "nbo4aE99Q6cM"
      }
    },
    {
      "cell_type": "markdown",
      "source": [
        "# Answer 6:\n",
        "\n",
        "- Derivative of `f` with respect to `x`:  `2*x*y + y**3*cos(x)`\n",
        "- Derivative of `f` with respect to `y`:  `x**2 + 3*y**2*sin(x)`"
      ],
      "metadata": {
        "id": "C3GzOzElSiPF"
      }
    },
    {
      "cell_type": "code",
      "source": [
        "from sympy import *\n",
        "\n",
        "x, y = symbols('x y')\n",
        "f = x**2 * y + y**3 * sin(x)\n",
        "\n",
        "dfx = Derivative(f, x) \n",
        "dfy = Derivative(f, y)\n",
        "\n",
        "print(\"Derivative of f with respect to x: \", dfx.doit())\n",
        "print(\"Derivative of f with respect to y: \", dfy.doit())"
      ],
      "metadata": {
        "colab": {
          "base_uri": "https://localhost:8080/"
        },
        "id": "e01FSY_jNH5z",
        "outputId": "5c0d6c30-5182-408f-cea2-dd87031bdf3c"
      },
      "execution_count": null,
      "outputs": [
        {
          "output_type": "stream",
          "name": "stdout",
          "text": [
            "Derivative of f with respect to x:  2*x*y + y**3*cos(x)\n",
            "Derivative of f with respect to y:  x**2 + 3*y**2*sin(x)\n"
          ]
        }
      ]
    },
    {
      "cell_type": "markdown",
      "source": [
        "---"
      ],
      "metadata": {
        "id": "63a-DoywSwDl"
      }
    },
    {
      "cell_type": "markdown",
      "source": [
        "# Question 7: \n",
        "Create a Python nested dictionary to represent hierarchical information."
      ],
      "metadata": {
        "id": "4WAhPQCKSqyt"
      }
    },
    {
      "cell_type": "markdown",
      "source": [
        "# Answer 7:"
      ],
      "metadata": {
        "id": "1UPJRTQITXsz"
      }
    },
    {
      "cell_type": "code",
      "source": [
        "studentData = {\n",
        "    2022: {\n",
        "        \"Branch 1\": {\n",
        "            \"Student 1\": {\n",
        "              \"Roll Number\": 1,\n",
        "              \"Name\": \"N\",\n",
        "              \"Marks\": {\n",
        "                  \"Maths\": 100,\n",
        "                  \"English\": 70\n",
        "              }\n",
        "            },\n",
        "            \"Student 2\": {\n",
        "              \"Roll Number\": 2,\n",
        "              \"Name\": \"M\",\n",
        "              \"Marks\": {\n",
        "                  \"Maths\": 90,\n",
        "                  \"English\": 80\n",
        "              }\n",
        "            }\n",
        "        },\n",
        "        \"Branch 2\": {\n",
        "            \"Student 1\": {\n",
        "              \"Roll Number\": 5,\n",
        "              \"Name\": \"X\",\n",
        "              \"Marks\": {\n",
        "                  \"Phusics\": 60,\n",
        "                  \"English\": 70\n",
        "              }\n",
        "            }\n",
        "        }\n",
        "    },\n",
        "    2023: {\n",
        "        \"Branch 1\": {\n",
        "            \"Student 1\": {\n",
        "              \"Roll Number\": 1,\n",
        "              \"Name\": \"N\",\n",
        "              \"Marks\": {\n",
        "                  \"Maths\": 100,\n",
        "                  \"English\": 70\n",
        "              }\n",
        "            },\n",
        "            \"Student 2\": {\n",
        "              \"Roll Number\": 2,\n",
        "              \"Name\": \"M\",\n",
        "              \"Marks\": {\n",
        "                  \"Maths\": 90,\n",
        "                  \"English\": 80\n",
        "              }\n",
        "            }\n",
        "        },\n",
        "        \"Branch 2\": {\n",
        "            \"Student 1\": {\n",
        "              \"Roll Number\": 5,\n",
        "              \"Name\": \"X\",\n",
        "              \"Marks\": {\n",
        "                  \"Phusics\": 60,\n",
        "                  \"English\": 70\n",
        "              }\n",
        "            }\n",
        "        }\n",
        "    },\n",
        "    2024: {\n",
        "        \"Branch 1\": {\n",
        "            \"Student 1\": {\n",
        "              \"Roll Number\": 2,\n",
        "              \"Name\": \"M\",\n",
        "              \"Marks\": {\n",
        "                  \"Maths\": 90,\n",
        "                  \"English\": 80\n",
        "              }\n",
        "            }\n",
        "        },\n",
        "        \"Branch 2\": {\n",
        "            \"Student 1\": {\n",
        "              \"Roll Number\": 5,\n",
        "              \"Name\": \"X\",\n",
        "              \"Marks\": {\n",
        "                  \"Phusics\": 60,\n",
        "                  \"English\": 70\n",
        "              }\n",
        "            }\n",
        "        }\n",
        "    },\n",
        "    2025: {\n",
        "        \"Branch 1\": {\n",
        "            \"Student 1\": {\n",
        "              \"Roll Number\": 1,\n",
        "              \"Name\": \"N\",\n",
        "              \"Marks\": {\n",
        "                  \"Maths\": 100,\n",
        "                  \"English\": 70\n",
        "              }\n",
        "            }\n",
        "        },\n",
        "        \"Branch 2\": {\n",
        "            \"Student 1\": {\n",
        "              \"Roll Number\": 5,\n",
        "              \"Name\": \"X\",\n",
        "              \"Marks\": {\n",
        "                  \"Phusics\": 60,\n",
        "                  \"English\": 70\n",
        "              }\n",
        "            },\n",
        "            \"Student 2\": {\n",
        "              \"Roll Number\": 2,\n",
        "              \"Name\": \"M\",\n",
        "              \"Marks\": {\n",
        "                  \"Maths\": 90,\n",
        "                  \"English\": 80\n",
        "              }\n",
        "            }\n",
        "        }\n",
        "    }\n",
        "}"
      ],
      "metadata": {
        "id": "MSJyVZDcSHQL"
      },
      "execution_count": null,
      "outputs": []
    },
    {
      "cell_type": "markdown",
      "source": [
        "---"
      ],
      "metadata": {
        "id": "SX0BtP0NVQuk"
      }
    },
    {
      "cell_type": "markdown",
      "source": [
        "# Question 8: \n",
        "Store the same information using Python classes. We have an overall database which is a list of year objects. Each year contains a list of branches. Each branch contains a list of students. Each student has some properties like name, roll number and has marks in some subjects."
      ],
      "metadata": {
        "id": "TWh_BQ-uVScV"
      }
    },
    {
      "cell_type": "markdown",
      "source": [
        "# Answer 8:"
      ],
      "metadata": {
        "id": "AZGVa-tTTZiU"
      }
    },
    {
      "cell_type": "code",
      "source": [
        "class Database:\n",
        "  def __init__ (self, id, years):\n",
        "    self.id = id\n",
        "    self.years = years\n",
        "\n",
        "class Year:\n",
        "  def __init__ (self, year, branches):\n",
        "    self.year = year\n",
        "    self.branches = branches\n",
        "\n",
        "class Branch:\n",
        "  def __init__ (self, branch, students):\n",
        "    self.branch = branch\n",
        "    self.students = students\n",
        "\n",
        "class Student:\n",
        "  def __init__ (self, name, roll_number, marks):\n",
        "    self.name = name\n",
        "    self.roll_number = roll_number\n",
        "    self.marks = marks\n",
        "\n",
        "studentDataUsingClass = Database(id = 1, years = [\n",
        "    Year(year = yearNum, branches = [\n",
        "        Branch(branch = branchName, students = [\n",
        "            Student(name = studentData[\"Name\"], roll_number = studentData[\"Roll Number\"], marks = studentData[\"Marks\"]) \n",
        "            for studentNum, studentData in studentsDict.items()]) \n",
        "        for branchName, studentsDict in branchesDict.items()]) \n",
        "    for yearNum, branchesDict in studentData.items()]\n",
        ")"
      ],
      "metadata": {
        "id": "waKd_BFpUVeC"
      },
      "execution_count": null,
      "outputs": []
    },
    {
      "cell_type": "markdown",
      "source": [
        "---"
      ],
      "metadata": {
        "id": "3k-MtMVxdWVl"
      }
    },
    {
      "cell_type": "markdown",
      "source": [
        "# Question 9: \n",
        "Using matplotlib plot the following functions on the domain: $x = 0.5$ to $100.0$ in steps of $0.5$."
      ],
      "metadata": {
        "id": "XVrOsyqIdYYF"
      }
    },
    {
      "cell_type": "markdown",
      "source": [
        "# Answer 9:"
      ],
      "metadata": {
        "id": "TphqTMeYTdO-"
      }
    },
    {
      "cell_type": "code",
      "source": [
        "import matplotlib.pyplot as plt\n",
        "\n",
        "x = np.array([i/2 for i in range(1, 201)])\n",
        "\n",
        "def func1 (x):\n",
        "  return x\n",
        "\n",
        "def func2 (x):\n",
        "  return x**2\n",
        "\n",
        "def func3 (x):\n",
        "  return (x**3)/100\n",
        "\n",
        "def func4 (x):\n",
        "  return np.sin(x)\n",
        "\n",
        "def func5 (x):\n",
        "  return np.sin(x)/x\n",
        "\n",
        "def func6 (x):\n",
        "  return np.log(x)\n",
        "\n",
        "def func7 (x):\n",
        "  return np.exp(x)\n",
        "\n",
        "# Scatter Plot\n",
        "\n",
        "figure, axis = plt.subplots(3, 3, figsize=(12, 15))\n",
        "figure.delaxes(axis[2,1])\n",
        "figure.delaxes(axis[2,2])\n",
        "\n",
        "markerSizes = [0.5 for i in range(len(x))]\n",
        "\n",
        "axis[0, 0].scatter(x, func1(x), markerSizes)\n",
        "axis[0, 0].set_title(\"Function 1: y = x\")\n",
        "\n",
        "axis[0, 1].scatter(x, func2(x), markerSizes)\n",
        "axis[0, 1].set_title(\"Function 2: y = x**2\")\n",
        "\n",
        "axis[0, 2].scatter(x, func3(x), markerSizes)\n",
        "axis[0, 2].set_title(\"Function 3: y = x**3 / 100\")\n",
        "\n",
        "axis[1, 0].scatter(x, func4(x), markerSizes)\n",
        "axis[1, 0].set_title(\"Function 4: y = sin(x)\")\n",
        "\n",
        "axis[1, 1].scatter(x, func5(x), markerSizes)\n",
        "axis[1, 1].set_title(\"Function 5: y = sin(x) / x\")\n",
        "\n",
        "axis[1, 2].scatter(x, func6(x), markerSizes)\n",
        "axis[1, 2].set_title(\"Function 6: y = log (x)\")\n",
        "\n",
        "axis[2, 0].scatter(x, func7(x), markerSizes)\n",
        "axis[2, 0].set_title(\"Function 7: y = e**x\")"
      ],
      "metadata": {
        "colab": {
          "base_uri": "https://localhost:8080/",
          "height": 896
        },
        "id": "jjV9cuSoeCXg",
        "outputId": "39f294c2-3d19-4e3f-9a48-c8e9e0743288"
      },
      "execution_count": null,
      "outputs": [
        {
          "output_type": "execute_result",
          "data": {
            "text/plain": [
              "Text(0.5, 1.0, 'Function 7: y = e**x')"
            ]
          },
          "metadata": {},
          "execution_count": 7
        },
        {
          "output_type": "display_data",
          "data": {
            "text/plain": [
              "<Figure size 864x1080 with 7 Axes>"
            ],
            "image/png": "[encoded data removed]"
          },
          "metadata": {
            "needs_background": "light"
          }
        }
      ]
    },
    {
      "cell_type": "code",
      "source": [
        "# Line Plot\n",
        "\n",
        "figure, axis = plt.subplots(3, 3, figsize=(12, 15))\n",
        "figure.delaxes(axis[2,1])\n",
        "figure.delaxes(axis[2,2])\n",
        "\n",
        "axis[0, 0].plot(x, func1(x))\n",
        "axis[0, 0].set_title(\"Function 1: y = x\")\n",
        "\n",
        "axis[0, 1].plot(x, func2(x))\n",
        "axis[0, 1].set_title(\"Function 2: y = x**2\")\n",
        "\n",
        "axis[0, 2].plot(x, func3(x))\n",
        "axis[0, 2].set_title(\"Function 3: y = x**3 / 100\")\n",
        "\n",
        "axis[1, 0].plot(x, func4(x))\n",
        "axis[1, 0].set_title(\"Function 4: y = sin(x)\")\n",
        "\n",
        "axis[1, 1].plot(x, func5(x))\n",
        "axis[1, 1].set_title(\"Function 5: y = sin(x) / x\")\n",
        "\n",
        "axis[1, 2].plot(x, func6(x))\n",
        "axis[1, 2].set_title(\"Function 6: y = log (x)\")\n",
        "\n",
        "axis[2, 0].plot(x, func7(x))\n",
        "axis[2, 0].set_title(\"Function 7: y = e**x\")"
      ],
      "metadata": {
        "colab": {
          "base_uri": "https://localhost:8080/",
          "height": 896
        },
        "id": "GjormXDdeP2n",
        "outputId": "cc71e5a2-b163-488e-832a-2119a12055d7"
      },
      "execution_count": null,
      "outputs": [
        {
          "output_type": "execute_result",
          "data": {
            "text/plain": [
              "Text(0.5, 1.0, 'Function 7: y = e**x')"
            ]
          },
          "metadata": {},
          "execution_count": 8
        },
        {
          "output_type": "display_data",
          "data": {
            "text/plain": [
              "<Figure size 864x1080 with 7 Axes>"
            ],
            "image/png": "[encoded data removed]"
          },
          "metadata": {
            "needs_background": "light"
          }
        }
      ]
    },
    {
      "cell_type": "markdown",
      "source": [
        "---"
      ],
      "metadata": {
        "id": "dS900sFQjIrf"
      }
    },
    {
      "cell_type": "markdown",
      "source": [
        "# Question 10: \n",
        "Using numpy generate a matrix of size $20 \\times 5$ containing random numbers drawn uniformly from the range of $1$ to $2$. Using Pandas create a dataframe out of this matrix. Name the columns of the dataframe as “a”, “b”, “c”, “d”, “e”. Find the column with the highest standard deviation. Find the row with the lowest mean."
      ],
      "metadata": {
        "id": "jnayVUFxjZZ2"
      }
    },
    {
      "cell_type": "markdown",
      "source": [
        "# Answer 10:"
      ],
      "metadata": {
        "id": "WmfahXc9ThTb"
      }
    },
    {
      "cell_type": "code",
      "source": [
        "import pandas as pd\n",
        "\n",
        "matrix = np.random.uniform(1, 2, (20, 5))\n",
        "columns = [\"a\", \"b\", \"c\", \"d\", \"e\"]\n",
        "df = pd.DataFrame(matrix, columns = columns)\n",
        "print(df)\n",
        "print(\"Column with the highest standard deviation:\", df.std(axis = 0).idxmax())\n",
        "print(\"Row with the lowest mean (0 - indexing):\", df.mean(axis = 1).idxmin())"
      ],
      "metadata": {
        "colab": {
          "base_uri": "https://localhost:8080/"
        },
        "id": "QtNVNLEpi7cs",
        "outputId": "10096429-84cc-4201-c256-f4f51d91312f"
      },
      "execution_count": null,
      "outputs": [
        {
          "output_type": "stream",
          "name": "stdout",
          "text": [
            "           a         b         c         d         e\n",
            "0   1.795026  1.818671  1.719696  1.025109  1.732480\n",
            "1   1.173088  1.704915  1.205019  1.029399  1.916119\n",
            "2   1.611828  1.242256  1.201945  1.796774  1.039368\n",
            "3   1.867994  1.471436  1.854376  1.299582  1.411782\n",
            "4   1.760974  1.985399  1.785143  1.646587  1.967645\n",
            "5   1.679702  1.737329  1.731894  1.534256  1.119850\n",
            "6   1.214122  1.097594  1.318753  1.467897  1.030645\n",
            "7   1.010988  1.265981  1.131316  1.686935  1.100390\n",
            "8   1.417967  1.965861  1.522669  1.543971  1.198930\n",
            "9   1.883613  1.204612  1.025622  1.451739  1.022920\n",
            "10  1.417420  1.488428  1.088199  1.684891  1.323419\n",
            "11  1.819959  1.017904  1.924387  1.286145  1.812797\n",
            "12  1.576683  1.658875  1.046979  1.531069  1.031830\n",
            "13  1.678389  1.734911  1.338391  1.834855  1.410154\n",
            "14  1.586943  1.530958  1.788196  1.388938  1.739547\n",
            "15  1.098532  1.756496  1.365623  1.924168  1.765818\n",
            "16  1.788675  1.335541  1.086319  1.331648  1.464634\n",
            "17  1.897818  1.547564  1.613088  1.213406  1.513476\n",
            "18  1.887953  1.671743  1.085783  1.616808  1.594333\n",
            "19  1.458291  1.767476  1.209692  1.622136  1.703642\n",
            "Column with the highest standard deviation: e\n",
            "Row with the lowest mean (0 - indexing): 6\n"
          ]
        }
      ]
    },
    {
      "cell_type": "markdown",
      "source": [
        "---"
      ],
      "metadata": {
        "id": "wJRP8jMmnn7X"
      }
    },
    {
      "cell_type": "markdown",
      "source": [
        "# Question 11: \n",
        "Add a new column to the dataframe called “f” which is the sum of the columns “a”, “b”, “c”, “d”, “e”. Create another column called “g”. The value in the column “g” should be “LT8” if the value in the column “f” is less than 8 and “GT8” otherwise. Find the number of rows in the dataframe where the value in the column “g” is “LT8”. Find the standard deviation of the column “f” for the rows where the value in the column “g” is “LT8” and “GT8” respectively."
      ],
      "metadata": {
        "id": "DY4VxYbgnptu"
      }
    },
    {
      "cell_type": "markdown",
      "source": [
        "# Answer 11:"
      ],
      "metadata": {
        "id": "vBd-1DhMTlwT"
      }
    },
    {
      "cell_type": "code",
      "source": [
        "df[\"f\"] = df.sum(axis = 1)\n",
        "df[\"g\"] = np.where(df[\"f\"] < 8, \"LT8\", \"GT8\")\n",
        "\n",
        "print(df)\n",
        "print(\"Number of rows in the dataframe where the value in the column 'g' is 'LT8':\", len(df[df[\"g\"] == \"LT8\"]))\n",
        "print(\"Standard deviation of the column 'f' for the rows where the value in the column 'g' is 'LT8':\", df[df[\"g\"] == \"LT8\"][\"f\"].std())\n",
        "print(\"Standard deviation of the column 'f' for the rows where the value in the column 'g' is 'GT8':\", df[df[\"g\"] == \"GT8\"][\"f\"].std())"
      ],
      "metadata": {
        "colab": {
          "base_uri": "https://localhost:8080/"
        },
        "id": "-RNY7LpnnIyA",
        "outputId": "c82cbcee-030f-4719-d034-d5955f556882"
      },
      "execution_count": null,
      "outputs": [
        {
          "output_type": "stream",
          "name": "stdout",
          "text": [
            "           a         b         c         d         e         f    g\n",
            "0   1.795026  1.818671  1.719696  1.025109  1.732480  8.090981  GT8\n",
            "1   1.173088  1.704915  1.205019  1.029399  1.916119  7.028540  LT8\n",
            "2   1.611828  1.242256  1.201945  1.796774  1.039368  6.892171  LT8\n",
            "3   1.867994  1.471436  1.854376  1.299582  1.411782  7.905171  LT8\n",
            "4   1.760974  1.985399  1.785143  1.646587  1.967645  9.145747  GT8\n",
            "5   1.679702  1.737329  1.731894  1.534256  1.119850  7.803030  LT8\n",
            "6   1.214122  1.097594  1.318753  1.467897  1.030645  6.129010  LT8\n",
            "7   1.010988  1.265981  1.131316  1.686935  1.100390  6.195609  LT8\n",
            "8   1.417967  1.965861  1.522669  1.543971  1.198930  7.649397  LT8\n",
            "9   1.883613  1.204612  1.025622  1.451739  1.022920  6.588507  LT8\n",
            "10  1.417420  1.488428  1.088199  1.684891  1.323419  7.002358  LT8\n",
            "11  1.819959  1.017904  1.924387  1.286145  1.812797  7.861193  LT8\n",
            "12  1.576683  1.658875  1.046979  1.531069  1.031830  6.845436  LT8\n",
            "13  1.678389  1.734911  1.338391  1.834855  1.410154  7.996700  LT8\n",
            "14  1.586943  1.530958  1.788196  1.388938  1.739547  8.034582  GT8\n",
            "15  1.098532  1.756496  1.365623  1.924168  1.765818  7.910635  LT8\n",
            "16  1.788675  1.335541  1.086319  1.331648  1.464634  7.006817  LT8\n",
            "17  1.897818  1.547564  1.613088  1.213406  1.513476  7.785353  LT8\n",
            "18  1.887953  1.671743  1.085783  1.616808  1.594333  7.856620  LT8\n",
            "19  1.458291  1.767476  1.209692  1.622136  1.703642  7.761237  LT8\n",
            "Number of rows in the dataframe where the value in the column 'g' is 'LT8': 17\n",
            "Standard deviation of the column 'f' for the rows where the value in the column 'g' is 'LT8': 0.6319701720059145\n",
            "Standard deviation of the column 'f' for the rows where the value in the column 'g' is 'GT8': 0.6258861840812908\n"
          ]
        }
      ]
    },
    {
      "cell_type": "markdown",
      "source": [
        "---"
      ],
      "metadata": {
        "id": "F1v-VV7KsVjH"
      }
    },
    {
      "cell_type": "markdown",
      "source": [
        "# Question 12: \n",
        "Write a small piece of code to explain broadcasting in numpy."
      ],
      "metadata": {
        "id": "WozLgvf4sXhf"
      }
    },
    {
      "cell_type": "markdown",
      "source": [
        "# Answer 12:"
      ],
      "metadata": {
        "id": "mQFs-A7xTqHj"
      }
    },
    {
      "cell_type": "code",
      "source": [
        "a = np.random.uniform(-1e5, 1e5, (3, 5)) # Dimensin = 3 x 5\n",
        "b = np.random.uniform(-1e5, 1e5, (1, 5)) # Dimension = 1 x 5\n",
        "result = a + b # Dimension = 3 x 5 (array b is being stretched to dimension 3 x 5 by broadcasting b[0, :] to other rows)\n",
        "print(\"Shape(a) =\", a.shape, \"Shape(b) =\", b.shape, \"Shape(a + b) =\", result.shape)\n",
        "\n",
        "a = np.random.uniform(-1e5, 1e5, (6, 3, 5)) # Dimensin = 6 x 3 x 5\n",
        "b = np.random.uniform(-1e5, 1e5, (5)) # Dimension = 5\n",
        "result = a + b # Dimension = 6 x 3 x 5 (array b is being stretched to dimension 6 x 3 x 5 by broadcasting b[:] to other dimensions)\n",
        "print(\"Shape(a) =\", a.shape, \"Shape(b) =\", b.shape, \"Shape(a + b) =\", result.shape)\n",
        "\n",
        "a = np.random.uniform(-1e5, 1e5, (7, 1, 1, 8, 9)) # Dimensin = 7 x 1 x 1 x 8 x 9\n",
        "b = np.random.uniform(-1e5, 1e5, (4, 10, 8, 9)) # Dimension = 4 x 10 x 8 x 9\n",
        "result = a + b # Dimension = 7 x 4 x 10 x 8 x 9 (array a is being stretched to dimension 7 x 4 x 10 x 8 x 9 by broadcasting a[:, 0, 0, :, :] to other dimensions and array b is being stretched to dimension 7 x 4 x 10 x 8 x 9 by broadcasting b[0, 0, :, :, :, :] to other dimensions)\n",
        "print(\"Shape(a) =\", a.shape, \"Shape(b) =\", b.shape, \"Shape(a + b) =\", result.shape)\n",
        "\n",
        "a = np.random.uniform(-1e5, 1e5, (3, 5, 6)) # Dimensin = 3 x 5 x 6\n",
        "b = np.random.uniform(-1e5, 1e5, (1)) # Dimension = 1\n",
        "result = a + b # Dimension = 3 x 5 x 6 (array b is being stretched to dimension 3 x 5 x 6 by broadcasting b[0, :] to other dimensions)\n",
        "print(\"Shape(a) =\", a.shape, \"Shape(b) =\", b.shape, \"Shape(a + b) =\", result.shape)\n",
        "\n",
        "a = np.random.uniform(-1e5, 1e5, (7, 1)) # Dimensin = 7 x 1\n",
        "b = np.random.uniform(-1e5, 1e5, (1, 9)) # Dimension = 1 x 9\n",
        "result = a + b # Dimension = 7 x 9 (array a is being stretched to dimension 7 x 9 by broadcasting a[:, 0] to other columns and array b is being stretched to dimension 7 x 9 by broadcasting b[0, :] to other rows)\n",
        "print(\"Shape(a) =\", a.shape, \"Shape(b) =\", b.shape, \"Shape(a + b) =\", result.shape)"
      ],
      "metadata": {
        "colab": {
          "base_uri": "https://localhost:8080/"
        },
        "id": "aS_K5_zHsKAh",
        "outputId": "345fe2ea-5a29-436f-f3bc-18a824cdfb17"
      },
      "execution_count": null,
      "outputs": [
        {
          "output_type": "stream",
          "name": "stdout",
          "text": [
            "Shape(a) = (3, 5) Shape(b) = (1, 5) Shape(a + b) = (3, 5)\n",
            "Shape(a) = (6, 3, 5) Shape(b) = (5,) Shape(a + b) = (6, 3, 5)\n",
            "Shape(a) = (7, 1, 1, 8, 9) Shape(b) = (4, 10, 8, 9) Shape(a + b) = (7, 4, 10, 8, 9)\n",
            "Shape(a) = (3, 5, 6) Shape(b) = (1,) Shape(a + b) = (3, 5, 6)\n",
            "Shape(a) = (7, 1) Shape(b) = (1, 9) Shape(a + b) = (7, 9)\n"
          ]
        }
      ]
    },
    {
      "cell_type": "markdown",
      "source": [
        "---"
      ],
      "metadata": {
        "id": "DeN8YnSOOkHS"
      }
    },
    {
      "cell_type": "markdown",
      "source": [
        "# Question 13: \n",
        "Write a function to compute the `argmin` of a numpy array. The function should take a numpy array as input and return the index of the minimum element. You can use the `np.argmin` function to verify your solution."
      ],
      "metadata": {
        "id": "jJYiHV9EOmBL"
      }
    },
    {
      "cell_type": "markdown",
      "source": [
        "# Answer 13:"
      ],
      "metadata": {
        "id": "DwGutY6aTt9s"
      }
    },
    {
      "cell_type": "code",
      "source": [
        "import random\n",
        "\n",
        "def argmin (array):\n",
        "  curMin = 1e10\n",
        "  minIdx = -1\n",
        "  for i in range(len(array)):\n",
        "    if (array[i] < curMin):\n",
        "      curMin = array[i]\n",
        "      minIdx = i\n",
        "  return i\n",
        "\n",
        "iterations = 1000\n",
        "execArgmin = np.zeros(iterations)\n",
        "execNumPy = np.zeros(iterations)\n",
        "for iter in tqdm(range(iterations)):\n",
        "  n = random.randint(1, 1e5)\n",
        "  array = np.random.uniform(-1e5, 1e5, n)\n",
        "\n",
        "  start = timeit.default_timer()\n",
        "  idArgmin = argmin(array)\n",
        "  end = timeit.default_timer()\n",
        "  execTimeArgmin = end - start\n",
        "  execArgmin[iter] = execTimeArgmin\n",
        "\n",
        "  start = timeit.default_timer()\n",
        "  idNumPy = np.argmin(array)\n",
        "  end = timeit.default_timer()\n",
        "  execTimeNumPy = end - start\n",
        "  execNumPy[iter] = execTimeNumPy\n",
        "\n",
        "meanArgmin, meanNumPy = np.mean(execArgmin), np.mean(execNumPy)\n",
        "stdArgmin, stdNumPy = np.std(execArgmin), np.std(execNumPy)\n",
        "\n",
        "print()\n",
        "print(\"[Using custom argmin function] Execution Time over\", iterations, \"iterations: \", meanArgmin, \"+/-\", stdArgmin)\n",
        "print(\"[Using NumPy.argmin] Execution Time over\", iterations, \"iterations: \", meanNumPy, \"+/-\", stdNumPy)"
      ],
      "metadata": {
        "colab": {
          "base_uri": "https://localhost:8080/"
        },
        "id": "o-TOy-WEOlaD",
        "outputId": "bb687786-f032-4bde-d3fc-7cb8860db76c"
      },
      "execution_count": null,
      "outputs": [
        {
          "output_type": "stream",
          "name": "stderr",
          "text": [
            "100%|██████████| 1000/1000 [00:10<00:00, 96.44it/s]"
          ]
        },
        {
          "output_type": "stream",
          "name": "stdout",
          "text": [
            "\n",
            "[Using custom argmin function] Execution Time over 1000 iterations:  0.009174029150996375 +/- 0.00812521153253891\n",
            "[Using NumPy.argmin] Execution Time over 1000 iterations:  0.00011493347299665402 +/- 0.00031088756683594746\n"
          ]
        },
        {
          "output_type": "stream",
          "name": "stderr",
          "text": [
            "\n"
          ]
        }
      ]
    }
  ]
}